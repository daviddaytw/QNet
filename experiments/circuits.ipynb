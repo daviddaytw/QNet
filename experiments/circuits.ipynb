{
 "cells": [
  {
   "cell_type": "code",
   "execution_count": null,
   "metadata": {},
   "outputs": [],
   "source": [
    "# Update package resources to account for version changes.\n",
    "import importlib, pkg_resources\n",
    "importlib.reload(pkg_resources)"
   ]
  },
  {
   "cell_type": "code",
   "execution_count": null,
   "metadata": {},
   "outputs": [],
   "source": [
    "import tensorflow as tf\n",
    "import tensorflow_quantum as tfq\n",
    "\n",
    "import cirq\n",
    "import sympy\n",
    "import numpy as np\n",
    "from numpy import pi\n",
    "import collections\n",
    "\n",
    "# visualization tools\n",
    "%matplotlib inline\n",
    "import matplotlib.pyplot as plt\n",
    "from cirq.contrib.svg import SVGCircuit\n"
   ]
  },
  {
   "cell_type": "code",
   "execution_count": null,
   "metadata": {},
   "outputs": [],
   "source": [
    "from models.QNet import quantum_data_encoder\n",
    "SVGCircuit(quantum_data_encoder(cirq.GridQubit.rect(1, 4), sympy.symbols('x0:4')))"
   ]
  },
  {
   "cell_type": "code",
   "execution_count": null,
   "metadata": {},
   "outputs": [],
   "source": [
    "from models.QNet import quanttention\n",
    "SVGCircuit(quanttention(cirq.GridQubit.rect(1, 4), 1))"
   ]
  },
  {
   "cell_type": "code",
   "execution_count": null,
   "metadata": {},
   "outputs": [],
   "source": [
    "from models.QNet import grover_operator\n",
    "SVGCircuit(grover_operator(cirq.GridQubit.rect(1, 4), 2))"
   ]
  },
  {
   "cell_type": "code",
   "execution_count": null,
   "metadata": {},
   "outputs": [],
   "source": [
    "from models.QNet import quantum_feedforward\n",
    "SVGCircuit(quantum_feedforward(cirq.GridQubit.rect(1, 4), 2, 0,sympy.symbols('x0:2 y0:2 z0:2')))"
   ]
  },
  {
   "cell_type": "code",
   "execution_count": null,
   "metadata": {},
   "outputs": [],
   "source": [
    "from models.QNet import generate_model\n",
    "SVGCircuit(generate_model(2, 2, 1)[1])"
   ]
  },
  {
   "cell_type": "code",
   "execution_count": null,
   "metadata": {},
   "outputs": [],
   "source": [
    "from models.QNet import ParametersLayer, QNet\n",
    "\n",
    "vocab_size, embed_dim, max_len = 5, 2, 2\n",
    "model = tf.keras.models.Sequential([\n",
    "    ParametersLayer(vocab_size, embed_dim, 1),\n",
    "    QNet(embed_dim, max_len, 1),\n",
    "])\n",
    "x = tf.random.uniform((1, 2), maxval=vocab_size-1, dtype=tf.dtypes.int64)\n",
    "model(x)"
   ]
  },
  {
   "cell_type": "code",
   "execution_count": null,
   "metadata": {},
   "outputs": [],
   "source": []
  }
 ],
 "metadata": {
  "kernelspec": {
   "display_name": "QNet",
   "language": "python",
   "name": "python3"
  },
  "language_info": {
   "codemirror_mode": {
    "name": "ipython",
    "version": 3
   },
   "file_extension": ".py",
   "mimetype": "text/x-python",
   "name": "python",
   "nbconvert_exporter": "python",
   "pygments_lexer": "ipython3",
   "version": "3.8.15"
  },
  "vscode": {
   "interpreter": {
    "hash": "c72d0b0262ebb4abe2b1f06c2d8debf4096b175941ffecc5e66586e4a2c46ce7"
   }
  }
 },
 "nbformat": 4,
 "nbformat_minor": 2
}
