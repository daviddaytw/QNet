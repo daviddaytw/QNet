{
 "cells": [
  {
   "cell_type": "code",
   "execution_count": 38,
   "metadata": {},
   "outputs": [
    {
     "data": {
      "text/plain": [
       "array([0.5042065 , 0.24437768, 0.50374289, 0.75320912])"
      ]
     },
     "execution_count": 38,
     "metadata": {},
     "output_type": "execute_result"
    }
   ],
   "source": [
    "import numpy as np\n",
    "import pennylane as qml\n",
    "import matplotlib.pyplot as plt\n",
    "\n",
    "inputs = np.random.rand(4)\n",
    "params = np.random.rand(2, 3)\n",
    "\n",
    "inputs"
   ]
  },
  {
   "cell_type": "code",
   "execution_count": 97,
   "metadata": {},
   "outputs": [],
   "source": [
    "params = np.random.rand(2, 3)"
   ]
  },
  {
   "cell_type": "code",
   "execution_count": 74,
   "metadata": {},
   "outputs": [],
   "source": [
    "dev = qml.device(\"default.qubit\", wires=4)\n",
    "\n",
    "@qml.qnode(dev)\n",
    "def circuit(x, params):\n",
    "    for i in range(4):\n",
    "        qml.RX(x[i], wires=i)\n",
    "    for i in range(4):\n",
    "        qml.RZ(i // 2 * np.pi / 2, wires=i)\n",
    "    for i in range(2):\n",
    "        qml.QFT(wires=range(i, 4, 2))\n",
    "\n",
    "    for i in range(2):\n",
    "        for j in range(i, 4, 2):\n",
    "            qml.Rot(params[i][0], params[i][1], params[i][2], wires=j)\n",
    "    for i in range(2):\n",
    "        qml.QFT(wires=range(i, 4, 2)).inv()\n",
    "    return qml.probs(wires=range(2)) #qml.expval(qml.PauliZ(1))\n"
   ]
  },
  {
   "cell_type": "code",
   "execution_count": 75,
   "metadata": {},
   "outputs": [
    {
     "name": "stdout",
     "output_type": "stream",
     "text": [
      "0: ──RX(0.50)──RZ(0.00)─╭QFT──Rot(0.33,0.78,0.39)──────────────────────╭QFT⁻¹────────┤ ╭Probs\n",
      "1: ──RX(0.24)──RZ(0.00)─│────╭QFT──────────────────Rot(0.01,0.60,0.74)─│──────╭QFT⁻¹─┤ ╰Probs\n",
      "2: ──RX(0.50)──RZ(1.57)─╰QFT─│─────────────────────Rot(0.33,0.78,0.39)─╰QFT⁻¹─│──────┤       \n",
      "3: ──RX(0.75)──RZ(1.57)──────╰QFT──────────────────Rot(0.01,0.60,0.74)────────╰QFT⁻¹─┤       \n"
     ]
    },
    {
     "name": "stderr",
     "output_type": "stream",
     "text": [
      "/Users/david/miniconda3/envs/QNet/lib/python3.8/site-packages/pennylane/operation.py:1506: UserWarning: In-place inversion with inverse is deprecated. Please use qml.adjoint or qml.pow instead.\n",
      "  warnings.warn(\n"
     ]
    }
   ],
   "source": [
    "print(qml.draw(circuit)(inputs, params))"
   ]
  },
  {
   "cell_type": "code",
   "execution_count": 76,
   "metadata": {},
   "outputs": [
    {
     "data": {
      "text/plain": [
       "array([[5.71691848e-04, 1.23032814e-01, 3.87231408e-02, 3.21608858e-02,\n",
       "        3.58816949e-01, 5.80360292e-02, 8.97232246e-02, 2.51301522e-02,\n",
       "        3.63934894e-01, 1.31479256e-01, 7.41176735e-02, 4.66194418e-02,\n",
       "        3.45264830e-01, 1.55420032e-01, 1.43703493e-01, 3.05686864e-03],\n",
       "       [5.84642327e-02, 5.05821498e-01, 5.73136040e-03, 8.61495382e-02,\n",
       "        1.72459355e-01, 4.64355488e-05, 3.07891385e-02, 1.76762542e-02,\n",
       "        2.70933226e-02, 1.08479315e-01, 4.03111542e-02, 2.79254419e-01,\n",
       "        5.02701482e-02, 1.65703140e-01, 9.25185362e-02, 3.35638298e-02],\n",
       "       [4.98699853e-02, 5.89214658e-02, 5.81950021e-01, 3.50052078e-02,\n",
       "        1.66588021e-01, 4.06412078e-02, 4.11149573e-02, 1.65654546e-01,\n",
       "        1.48102738e-01, 3.16620756e-03, 1.17395917e-02, 7.76737145e-02,\n",
       "        6.28103683e-03, 3.94424770e-02, 2.27722075e-01, 3.37242963e-02],\n",
       "       [1.56783753e-02, 1.82810724e-01, 1.26394600e-01, 5.46016896e-01,\n",
       "        6.41564049e-02, 2.28081041e-02, 1.64951465e-01, 2.64531424e-01,\n",
       "        3.48888460e-02, 1.62534945e-01, 3.97057542e-02, 3.32824103e-01,\n",
       "        5.00186610e-02, 6.73073448e-02, 1.13061415e-01, 5.14127235e-03],\n",
       "       [3.34161417e-01, 6.62986026e-02, 5.50987475e-02, 2.43859164e-02,\n",
       "        4.64577078e-02, 1.00230566e-01, 4.93940172e-02, 1.83845649e-02,\n",
       "        5.46501998e-02, 1.37015479e-01, 1.87933373e-01, 1.17086874e-02,\n",
       "        3.98975793e-01, 3.38153291e-02, 5.32125155e-02, 5.28379236e-02],\n",
       "       [1.69359324e-01, 1.30991288e-01, 3.86889975e-02, 4.42389794e-02,\n",
       "        2.07192607e-02, 5.91481275e-01, 5.92185595e-05, 1.31531640e-01,\n",
       "        1.28641365e-01, 2.33742596e-01, 7.47848103e-02, 3.06282520e-02,\n",
       "        2.92050564e-02, 4.15624551e-01, 1.82599714e-02, 2.68004934e-01],\n",
       "       [1.18430068e-01, 4.08521006e-02, 3.87884953e-01, 1.24517129e-01,\n",
       "        7.02996255e-02, 3.79192744e-02, 5.71031784e-01, 8.85231238e-02,\n",
       "        1.14288793e-01, 2.85896028e-02, 2.20405038e-01, 3.97907407e-02,\n",
       "        1.43130188e-01, 2.72013691e-02, 1.84262302e-02, 6.55658969e-02],\n",
       "       [7.39075283e-02, 7.56294560e-02, 3.53990389e-02, 1.86984637e-01,\n",
       "        2.85981802e-03, 2.53490648e-01, 7.60962665e-02, 1.77363891e-01,\n",
       "        1.69096459e-02, 4.14657324e-02, 1.08554660e-01, 7.97715901e-02,\n",
       "        2.03293242e-02, 7.27288449e-02, 1.46832907e-02, 3.80173547e-01],\n",
       "       [4.48936346e-01, 2.01229374e-02, 4.81421144e-02, 5.38264618e-02,\n",
       "        1.16520299e-02, 1.24537461e-01, 1.61997876e-01, 1.31202423e-02,\n",
       "        1.60872041e-01, 9.26943923e-02, 8.76105507e-02, 1.09431155e-02,\n",
       "        2.87142952e-01, 2.61861847e-03, 4.10866026e-02, 1.72715372e-02],\n",
       "       [1.00767238e-01, 4.49469253e-01, 3.73452848e-02, 2.78057947e-01,\n",
       "        1.36883242e-01, 2.04051550e-01, 9.30583824e-02, 2.17423209e-02,\n",
       "        8.34691086e-02, 5.71250576e-01, 2.67140608e-02, 1.48767838e-01,\n",
       "        1.88920776e-01, 7.28712635e-02, 4.75315332e-02, 3.97839326e-02],\n",
       "       [1.33829098e-01, 4.45174150e-02, 7.65265681e-02, 6.56513532e-02,\n",
       "        1.15792000e-01, 5.53405314e-02, 1.99451850e-01, 1.14399243e-02,\n",
       "        6.39351385e-02, 4.27582990e-02, 5.14139080e-01, 1.54968929e-01,\n",
       "        1.31378004e-01, 3.83977663e-03, 3.98025802e-01, 2.05011931e-01],\n",
       "       [1.17791618e-02, 2.41608620e-02, 4.99251218e-02, 3.60250065e-01,\n",
       "        1.31219589e-02, 6.09241701e-02, 1.20049365e-01, 3.46110884e-02,\n",
       "        3.59788638e-02, 2.51332905e-01, 5.28641594e-02, 2.68970756e-02,\n",
       "        8.33691255e-02, 2.89463873e-02, 2.79322536e-02, 2.34015989e-01],\n",
       "       [3.17891142e-01, 9.23428951e-02, 1.85929014e-01, 2.03129912e-02,\n",
       "        4.37884597e-01, 7.38893136e-02, 2.55677570e-02, 5.34798056e-02,\n",
       "        3.84874251e-01, 2.08299363e-02, 1.02367375e-01, 9.99524442e-03,\n",
       "        1.18742261e-01, 1.07773535e-01, 7.97725490e-02, 2.65198922e-02],\n",
       "       [3.67758046e-02, 1.36911773e-01, 8.09709305e-02, 4.49907991e-02,\n",
       "        5.98576235e-02, 1.69887499e-01, 1.58102581e-02, 2.87208873e-01,\n",
       "        1.50634962e-01, 5.74260765e-02, 2.76362308e-02, 1.08687303e-02,\n",
       "        3.82084985e-02, 5.40897245e-01, 1.41757612e-02, 1.04601048e-01],\n",
       "       [9.70549704e-03, 4.83166956e-02, 2.41549921e-01, 2.15432344e-02,\n",
       "        1.45250883e-01, 9.31727661e-03, 4.82495831e-02, 6.88091176e-02,\n",
       "        1.69013136e-01, 1.14729178e-02, 6.26120715e-03, 1.76955328e-01,\n",
       "        4.49302043e-02, 4.76486726e-02, 5.51884429e-01, 2.27292736e-02],\n",
       "       [4.20338050e-02, 8.18701185e-02, 1.01316149e-01, 5.02944524e-02,\n",
       "        1.13822050e-02, 1.34428856e-01, 2.17918676e-02, 3.60878868e-01,\n",
       "        6.80102764e-02, 2.91316067e-02, 1.39392433e-01, 2.97411199e-01,\n",
       "        1.61780425e-02, 2.43406841e-01, 4.64211138e-02, 4.39297044e-01]])"
      ]
     },
     "execution_count": 76,
     "metadata": {},
     "output_type": "execute_result"
    }
   ],
   "source": [
    "u = qml.matrix(circuit)(inputs, params)\n",
    "np.abs(u.real)"
   ]
  },
  {
   "cell_type": "code",
   "execution_count": 77,
   "metadata": {},
   "outputs": [
    {
     "data": {
      "text/plain": [
       "<matplotlib.image.AxesImage at 0x28636d4c0>"
      ]
     },
     "execution_count": 77,
     "metadata": {},
     "output_type": "execute_result"
    },
    {
     "data": {
      "image/png": "[encoded data removed]",
      "text/plain": [
       "<Figure size 640x480 with 1 Axes>"
      ]
     },
     "metadata": {},
     "output_type": "display_data"
    }
   ],
   "source": [
    "plt.imshow(np.abs(u.real), cmap='gray')"
   ]
  },
  {
   "cell_type": "code",
   "execution_count": 98,
   "metadata": {},
   "outputs": [
    {
     "name": "stdout",
     "output_type": "stream",
     "text": [
      "0: ──RX(0.50)──RZ(0.00)──Rot(0.63,0.33,0.03)─╭GroverOperator──Rot(0.63,0.33,0.03)─╭GroverOperator─┤\n",
      "1: ──RX(0.24)──RZ(0.00)──Rot(0.63,0.33,0.03)─╰GroverOperator──Rot(0.63,0.33,0.03)─╰GroverOperator─┤\n",
      "2: ──RX(0.50)──RZ(1.57)──Rot(0.65,0.79,0.04)─╭GroverOperator──Rot(0.65,0.79,0.04)─╭GroverOperator─┤\n",
      "3: ──RX(0.75)──RZ(1.57)──Rot(0.65,0.79,0.04)─╰GroverOperator──Rot(0.65,0.79,0.04)─╰GroverOperator─┤\n",
      "\n",
      "  ╭Probs\n",
      "  ╰Probs\n",
      "        \n",
      "        \n"
     ]
    }
   ],
   "source": [
    "dev = qml.device(\"default.qubit\", wires=4)\n",
    "\n",
    "@qml.qnode(dev)\n",
    "def circuit(x, params):\n",
    "    for i in range(4):\n",
    "        qml.RX(x[i], wires=i)\n",
    "    for i in range(4):\n",
    "        qml.RZ(i // 2 * np.pi / 2, wires=i)\n",
    "\n",
    "    for i in range(2):\n",
    "        for j in range(i * 2, (i+1)*2):\n",
    "            qml.Rot(params[i][0], params[i][1], params[i][2], wires=j)\n",
    "    for i in range(2):\n",
    "        qml.GroverOperator(wires=range(i * 2, (i+1)*2))\n",
    "\n",
    "    for i in range(2):\n",
    "        for j in range(i * 2, (i+1)*2):\n",
    "            qml.Rot(params[i][0], params[i][1], params[i][2], wires=j)\n",
    "    for i in range(2):\n",
    "        qml.GroverOperator(wires=range(i * 2, (i+1)*2))\n",
    "\n",
    "    return qml.probs(wires=range(2)) #qml.expval(qml.PauliZ(1))\n",
    "\n",
    "u = qml.matrix(circuit)(inputs, params)\n",
    "print(qml.draw(circuit)(inputs, params))\n"
   ]
  },
  {
   "cell_type": "code",
   "execution_count": 99,
   "metadata": {},
   "outputs": [
    {
     "data": {
      "text/plain": [
       "<matplotlib.image.AxesImage at 0x28684afd0>"
      ]
     },
     "execution_count": 99,
     "metadata": {},
     "output_type": "execute_result"
    },
    {
     "data": {
      "image/png": "[encoded data removed]",
      "text/plain": [
       "<Figure size 640x480 with 1 Axes>"
      ]
     },
     "metadata": {},
     "output_type": "display_data"
    }
   ],
   "source": [
    "plt.imshow(np.abs(u.real), cmap='gray')"
   ]
  },
  {
   "cell_type": "code",
   "execution_count": null,
   "metadata": {},
   "outputs": [],
   "source": []
  }
 ],
 "metadata": {
  "kernelspec": {
   "display_name": "QNet",
   "language": "python",
   "name": "python3"
  },
  "language_info": {
   "codemirror_mode": {
    "name": "ipython",
    "version": 3
   },
   "file_extension": ".py",
   "mimetype": "text/x-python",
   "name": "python",
   "nbconvert_exporter": "python",
   "pygments_lexer": "ipython3",
   "version": "3.8.15"
  },
  "orig_nbformat": 4,
  "vscode": {
   "interpreter": {
    "hash": "c72d0b0262ebb4abe2b1f06c2d8debf4096b175941ffecc5e66586e4a2c46ce7"
   }
  }
 },
 "nbformat": 4,
 "nbformat_minor": 2
}
