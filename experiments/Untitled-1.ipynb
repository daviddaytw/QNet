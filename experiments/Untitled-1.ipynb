{
 "cells": [
  {
   "cell_type": "code",
   "execution_count": null,
   "metadata": {},
   "outputs": [],
   "source": [
    "import numpy as np\n",
    "import pennylane as qml\n",
    "import matplotlib.pyplot as plt\n",
    "\n",
    "inputs = np.random.rand(4)\n",
    "params = np.random.rand(2, 3)\n",
    "\n",
    "inputs"
   ]
  },
  {
   "cell_type": "code",
   "execution_count": null,
   "metadata": {},
   "outputs": [],
   "source": [
    "params = np.random.rand(2, 3)"
   ]
  },
  {
   "cell_type": "code",
   "execution_count": null,
   "metadata": {},
   "outputs": [],
   "source": [
    "dev = qml.device(\"default.qubit\", wires=4)\n",
    "\n",
    "@qml.qnode(dev)\n",
    "def circuit(x, params):\n",
    "    for i in range(4):\n",
    "        qml.RX(x[i], wires=i)\n",
    "    for i in range(4):\n",
    "        qml.RZ(i // 2 * np.pi / 2, wires=i)\n",
    "    for i in range(2):\n",
    "        qml.QFT(wires=range(i, 4, 2))\n",
    "\n",
    "    for i in range(2):\n",
    "        for j in range(i, 4, 2):\n",
    "            qml.Rot(params[i][0], params[i][1], params[i][2], wires=j)\n",
    "    for i in range(2):\n",
    "        qml.QFT(wires=range(i, 4, 2)).inv()\n",
    "    return qml.probs(wires=range(2)) #qml.expval(qml.PauliZ(1))\n"
   ]
  },
  {
   "cell_type": "code",
   "execution_count": null,
   "metadata": {},
   "outputs": [],
   "source": [
    "print(qml.draw(circuit)(inputs, params))"
   ]
  },
  {
   "cell_type": "code",
   "execution_count": null,
   "metadata": {},
   "outputs": [],
   "source": [
    "u = qml.matrix(circuit)(inputs, params)\n",
    "np.abs(u.real)"
   ]
  },
  {
   "cell_type": "code",
   "execution_count": null,
   "metadata": {},
   "outputs": [],
   "source": [
    "plt.imshow(np.abs(u.real), cmap='gray')"
   ]
  },
  {
   "cell_type": "code",
   "execution_count": null,
   "metadata": {},
   "outputs": [],
   "source": [
    "dev = qml.device(\"default.qubit\", wires=4)\n",
    "\n",
    "@qml.qnode(dev)\n",
    "def circuit(x, params):\n",
    "    for i in range(4):\n",
    "        qml.RX(x[i], wires=i)\n",
    "    for i in range(4):\n",
    "        qml.RZ(i // 2 * np.pi / 2, wires=i)\n",
    "\n",
    "    for i in range(2):\n",
    "        for j in range(i * 2, (i+1)*2):\n",
    "            qml.Rot(params[i][0], params[i][1], params[i][2], wires=j)\n",
    "    for i in range(2):\n",
    "        qml.GroverOperator(wires=range(i * 2, (i+1)*2))\n",
    "\n",
    "    for i in range(2):\n",
    "        for j in range(i * 2, (i+1)*2):\n",
    "            qml.Rot(params[i][0], params[i][1], params[i][2], wires=j)\n",
    "    for i in range(2):\n",
    "        qml.GroverOperator(wires=range(i * 2, (i+1)*2))\n",
    "\n",
    "    return qml.probs(wires=range(2)) #qml.expval(qml.PauliZ(1))\n",
    "\n",
    "u = qml.matrix(circuit)(inputs, params)\n",
    "print(qml.draw(circuit)(inputs, params))\n"
   ]
  },
  {
   "cell_type": "code",
   "execution_count": null,
   "metadata": {},
   "outputs": [],
   "source": [
    "plt.imshow(np.abs(u.real), cmap='gray')"
   ]
  },
  {
   "cell_type": "code",
   "execution_count": null,
   "metadata": {},
   "outputs": [],
   "source": []
  }
 ],
 "metadata": {
  "kernelspec": {
   "display_name": "QNet",
   "language": "python",
   "name": "python3"
  },
  "language_info": {
   "codemirror_mode": {
    "name": "ipython",
    "version": 3
   },
   "file_extension": ".py",
   "mimetype": "text/x-python",
   "name": "python",
   "nbconvert_exporter": "python",
   "pygments_lexer": "ipython3",
   "version": "3.8.15"
  },
  "orig_nbformat": 4,
  "vscode": {
   "interpreter": {
    "hash": "c72d0b0262ebb4abe2b1f06c2d8debf4096b175941ffecc5e66586e4a2c46ce7"
   }
  }
 },
 "nbformat": 4,
 "nbformat_minor": 2
}
